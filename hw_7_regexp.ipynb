{
 "cells": [
  {
   "cell_type": "markdown",
   "metadata": {},
   "source": [
    "### Задание 1\n",
    "Напишите функцию, которая принимает на вход строку и проверяет является ли она валидным транспортным номером (1 буква, 3 цифры, 2 буквы, 2-3 цифры). Обратите внимание, что не все буквы кириллического алфавита используются в транспортных номерах. \n",
    "\n",
    "Согласно ГОСТу России разрешено использовать только 12 букв для обозначения серии госномеров.\n",
    "А, В, Е, К, М, Н, О, Р, С, Т, Х, У.\n",
    "\n",
    "Если номер валиден, то функция должна возвращать отдельно номер и регион.   \n",
    "\n",
    "**Примеры работы программы:**\n",
    "\n",
    "car_id = 'A222BC96'  \n",
    "Результат: Номер A222BС валиден. Регион: 96\n",
    "\n",
    "car_id = 'АБ22ВВ193'  \n",
    "Результат: Номер не валиден"
   ]
  },
  {
   "cell_type": "code",
   "execution_count": 19,
   "metadata": {},
   "outputs": [],
   "source": [
    "# подключаю модуль re для работы с регулярными выражениями Regular Expressions (сокращенно re)\n",
    "import re"
   ]
  },
  {
   "cell_type": "markdown",
   "metadata": {},
   "source": [
    "**Комментарий к регулярному выражениюё:***\n",
    "- Использую функцию: re.search потому что возвращает первое совпадение, ибо важно возвращать результаты из разных участков Гос номеров\n",
    "\n",
    "\n",
    "- - \"^\" Валидирую первую букву в начале строки, т.к интересует только буквы и их кол-во именно в начале  \n",
    "  - [  ] для реализации условия ИЛИ, в них помещаю разрешенные 12 букв\n",
    "  - {1} обозначая что выдавать вхождение в кол-ве 1раз   \n",
    "   - **Результат: ^[А, В, Е, К, М, Н, О, Р, С, Т, Х, У]{1}**  \n",
    "\n",
    "\n",
    "- - \\d - проверяю только цифры (любые)\n",
    "  - {3} вхождений должно быть d кол-ве 3 символа\n",
    "   - **Результат: \\d{3,3}**\n",
    "   \n",
    "- [  ] для реализации условия ИЛИ, в них помещаю разрешенные 12 букв\n",
    "  - {2} вхождений должно быть d кол-ве 3 символа\n",
    "   - **Результат: [А, В, Е, К, М, Н, О, Р, С, Т, Х, У]{2}**\n",
    "   \n",
    "   \n",
    "- - \\d - проверяю только цифры (любые)\n",
    "  - {2,3} создаю условие для проверки от 2х до 3х символов, в зависимости от аписания региона (в сотнях, в дясятках)\n",
    "  - S использую что бы обозначить что проверка нужна именно в конце строки\n",
    "  - помещаю выражение в скобочную группу, что бы обратится потом к региону и вывести это в итоговый результат\n",
    "   - **Результат: (\\d{2,3}$)**"
   ]
  },
  {
   "cell_type": "code",
   "execution_count": 20,
   "metadata": {},
   "outputs": [],
   "source": [
    "def number_check (car_id):\n",
    "    '''\n",
    "    Функция number_check- принимает на вход строку и проверяет является ли она валидным транспортным номером\n",
    "    (1 буква, 3 цифры, 2 буквы, 2-3 цифры). \n",
    "    Согласно ГОСТу России разрешено использовать только 12 букв для \n",
    "    обозначения серии госномеров. А, В, Е, К, М, Н, О, Р, С, Т, Х, У.\n",
    "    '''\n",
    "    result = re.search(r'^[А, В, Е, К, М, Н, О, Р, С, Т, Х, У]{1}\\d{3}[А, В, Е, К, М, Н, О, Р, С, Т, Х, У]{2}(\\d{2,3}$)', car_id)\n",
    "# Создаю проверку наличия результата в рег выражении, в зависимости от валидности номера, цикл в функции вернет результат\n",
    "    if result:\n",
    "        return(f'Номер: {result.group(0)} валиден. Регион: {result.group(1)}')\n",
    "    else:\n",
    "        return('Номер не валиден')"
   ]
  },
  {
   "cell_type": "code",
   "execution_count": 21,
   "metadata": {},
   "outputs": [],
   "source": [
    "# создаю переменную по формату условий задачи,в которую помещаю проверочный мномер \n",
    "car_id = 'А222ВС96'"
   ]
  },
  {
   "cell_type": "code",
   "execution_count": 22,
   "metadata": {},
   "outputs": [
    {
     "data": {
      "text/plain": [
       "'Номер: А222ВС96 валиден. Регион: 96'"
      ]
     },
     "execution_count": 22,
     "metadata": {},
     "output_type": "execute_result"
    }
   ],
   "source": [
    "# вызываю функцию, в качестве аргумента приходит гос номер из переменной car_id\n",
    "number_check(car_id)"
   ]
  },
  {
   "cell_type": "code",
   "execution_count": 23,
   "metadata": {},
   "outputs": [],
   "source": [
    "?number_check"
   ]
  },
  {
   "cell_type": "code",
   "execution_count": null,
   "metadata": {},
   "outputs": [],
   "source": []
  },
  {
   "cell_type": "code",
   "execution_count": null,
   "metadata": {},
   "outputs": [],
   "source": []
  },
  {
   "cell_type": "code",
   "execution_count": null,
   "metadata": {},
   "outputs": [],
   "source": []
  },
  {
   "cell_type": "markdown",
   "metadata": {},
   "source": [
    "### Задание 2\n",
    "Напишите функцию, которая будет удалять все последовательные повторы слов из заданной строки при помощи регулярных выражений.\n",
    "\n",
    "Пример работы программы:\n",
    "\n",
    "some_string = ‘Напишите функцию функцию, которая будет будет будет будет удалять все все все все последовательные повторы слов из из из из заданной строки строки при помощи регулярных выражений’\n",
    "\n",
    "Результат: Напишите функцию, которая будет удалять все последовательные повторы слов из заданной строки при помощи регулярных выражений."
   ]
  },
  {
   "cell_type": "code",
   "execution_count": 24,
   "metadata": {},
   "outputs": [],
   "source": [
    "import re"
   ]
  },
  {
   "cell_type": "code",
   "execution_count": 25,
   "metadata": {},
   "outputs": [],
   "source": [
    "some_string = 'Напишите функцию функцию, которая будет будет будет будет удалять все все все все последовательные повторы слов из из из из заданной строки строки при помощи регулярных выражений'"
   ]
  },
  {
   "cell_type": "markdown",
   "metadata": {},
   "source": [
    "**Комментарий к регулярному выражению:**\n",
    "  - (\\S+) ищет только слова\n",
    "  - (\\s+\\1) ищет пробелы все что есть за счет \"+\" и повторение слов в скобочной группе 1 за счет \"\\1\"\n",
    "  - (\\S+) и (\\s+\\1) ищи от 1 до бесконечности\n",
    "  - все что находишь меняй на содержимое скобочной группы 1 за счет r'\\1'"
   ]
  },
  {
   "cell_type": "code",
   "execution_count": 26,
   "metadata": {},
   "outputs": [],
   "source": [
    "def delete_duplicates(some_text):\n",
    "    '''\n",
    "     Функция delete_duplicates -  удаляет все последовательные повторы слов \n",
    "     из заданной строки при помощи регулярных выражений.\n",
    "    '''\n",
    "    return re.sub(r'(\\S+)(\\s+\\1)+', r'\\1', some_text)"
   ]
  },
  {
   "cell_type": "code",
   "execution_count": 27,
   "metadata": {},
   "outputs": [
    {
     "data": {
      "text/plain": [
       "'Напишите функцию, которая будет удалять все последовательные повторы слов из заданной строки при помощи регулярных выражений'"
      ]
     },
     "execution_count": 27,
     "metadata": {},
     "output_type": "execute_result"
    }
   ],
   "source": [
    "delete_duplicates(some_string)"
   ]
  },
  {
   "cell_type": "code",
   "execution_count": 28,
   "metadata": {},
   "outputs": [],
   "source": [
    "?delete_duplicates"
   ]
  },
  {
   "cell_type": "code",
   "execution_count": null,
   "metadata": {},
   "outputs": [],
   "source": []
  },
  {
   "cell_type": "code",
   "execution_count": null,
   "metadata": {},
   "outputs": [],
   "source": []
  },
  {
   "cell_type": "code",
   "execution_count": null,
   "metadata": {},
   "outputs": [],
   "source": []
  },
  {
   "cell_type": "markdown",
   "metadata": {},
   "source": [
    "### Задание 3\n",
    "Напишите функцию, которая будет возвращать акроним по переданной в нее строке со словами.\n",
    "\n",
    "Примеры работы программы:\n",
    "\n",
    "some_words = 'Информационные технологии’  \n",
    "Результат: ИТ\n",
    "\n",
    "some_words = 'Near Field Communication’  \n",
    "Результат: NFC"
   ]
  },
  {
   "cell_type": "code",
   "execution_count": 29,
   "metadata": {},
   "outputs": [],
   "source": [
    "import re"
   ]
  },
  {
   "cell_type": "code",
   "execution_count": 30,
   "metadata": {},
   "outputs": [],
   "source": [
    "some_words = 'Информационные технологии'"
   ]
  },
  {
   "cell_type": "markdown",
   "metadata": {},
   "source": [
    "**Комментарий к регулярному выражению:**\n",
    "- \\\\b\\S - выдает начало строки, и любой символ кроме пробелов"
   ]
  },
  {
   "cell_type": "code",
   "execution_count": 31,
   "metadata": {},
   "outputs": [],
   "source": [
    "def acronym_words(some_text):\n",
    "    '''\n",
    "    Функция acronym_words - возвращает акроним по переданной в нее строке со словами\n",
    "    '''\n",
    "    return ''.join(re.findall(r'\\b\\S', some_text))"
   ]
  },
  {
   "cell_type": "code",
   "execution_count": 32,
   "metadata": {},
   "outputs": [
    {
     "data": {
      "text/plain": [
       "'Ит'"
      ]
     },
     "execution_count": 32,
     "metadata": {},
     "output_type": "execute_result"
    }
   ],
   "source": [
    "acronym_words(some_words)"
   ]
  },
  {
   "cell_type": "code",
   "execution_count": 33,
   "metadata": {},
   "outputs": [],
   "source": [
    "?acronym_words"
   ]
  },
  {
   "cell_type": "code",
   "execution_count": null,
   "metadata": {},
   "outputs": [],
   "source": []
  },
  {
   "cell_type": "code",
   "execution_count": null,
   "metadata": {},
   "outputs": [],
   "source": []
  },
  {
   "cell_type": "code",
   "execution_count": null,
   "metadata": {},
   "outputs": [],
   "source": []
  },
  {
   "cell_type": "markdown",
   "metadata": {},
   "source": [
    "### Задание 4\n",
    "Напишите функцию, которая будет принимать на вход список email-адресов и выводить их распределение по доменным зонам.\n",
    "\n",
    "Пример работы программы:\n",
    "\n",
    "emails = [‘test@gmail.com, xyz@test.in, test@ya.ru, xyz@mail.ru, xyz@ya.ru’, xyz@gmail.com]\n",
    "\n",
    "**Результат:**  \n",
    "gmail.com: 2  \n",
    "test.in: 1  \n",
    "ya.ru: 2  \n",
    "mail.ru: 1  \n",
    "\n"
   ]
  },
  {
   "cell_type": "code",
   "execution_count": 34,
   "metadata": {},
   "outputs": [],
   "source": [
    "emails = ['test@gmail.com, xyz@test.in, test@ya.ru, xyz@mail.ru, xyz@ya.ru, xyz@gmail.com']"
   ]
  },
  {
   "cell_type": "code",
   "execution_count": 35,
   "metadata": {},
   "outputs": [],
   "source": [
    "# Подключаю модкль re для работы с регялярными выражениями\n",
    "import re"
   ]
  },
  {
   "cell_type": "code",
   "execution_count": 36,
   "metadata": {},
   "outputs": [],
   "source": [
    "# подключаю стандартный модуль Питона collections для дальнейшего подсчета доменов первого уровня\n",
    "import collections"
   ]
  },
  {
   "cell_type": "markdown",
   "metadata": {},
   "source": [
    "**Комментарий регулярному выражению:**\n",
    "- находи @ , но не показывай ее (для этого осталяю ее вне скобочной группы)\n",
    "- далее покажи вхожедение в скобочной группе: опять любой символ кроме пробела от 1 до беск.; символ точку (экранируюю что бы она была не служебным); опять любой символ кроме пробела от 1 до беск."
   ]
  },
  {
   "cell_type": "code",
   "execution_count": 37,
   "metadata": {},
   "outputs": [],
   "source": [
    "def domains_counter(emails):\n",
    "    '''\n",
    "    Комментарий к работе функции:\n",
    "    Функция domains_counter - принимает на вход список email-адресов и выводить \n",
    "    их распределение по доменным зонам в виде списка с подсчитанным кол-вом каждого домена\n",
    "    '''\n",
    "# перевожу в строку, для работы с регулярными выражениями\n",
    "    str_emails = ''.join(emails)\n",
    "# пишу регулярное выражени\n",
    "    re_str_emails = re.findall(r'@(\\w+\\.\\w+)', str_emails)\n",
    "\n",
    "# подсчитываю домены создавая счетчик с помощью модуля: collections и его класса: Counter\n",
    "    count = collections.Counter()\n",
    "\n",
    "    print('Результат:')\n",
    "    for email in re_str_emails:\n",
    "        count[email] += 1\n",
    "# для вывода результата использую доп цикл который формирует результат по формату в условии задачи\n",
    "    for domain, number in count.items():\n",
    "        print(f'{domain}: {number}')\n",
    "# через return выдает лиш  первую строку (он завершает функцию) но я понимаю в каком формате выдавать результат, не понимаю в каком формате выдавать результат из задания\n",
    "# return(f'{domain}: {number}')"
   ]
  },
  {
   "cell_type": "code",
   "execution_count": 38,
   "metadata": {},
   "outputs": [
    {
     "name": "stdout",
     "output_type": "stream",
     "text": [
      "Результат:\n",
      "gmail.com: 2\n",
      "test.in: 1\n",
      "ya.ru: 2\n",
      "mail.ru: 1\n"
     ]
    }
   ],
   "source": [
    "domains_counter(emails)"
   ]
  },
  {
   "cell_type": "code",
   "execution_count": 39,
   "metadata": {},
   "outputs": [],
   "source": [
    "?domains_counter"
   ]
  },
  {
   "cell_type": "code",
   "execution_count": null,
   "metadata": {},
   "outputs": [],
   "source": []
  }
 ],
 "metadata": {
  "kernelspec": {
   "display_name": "Python 3",
   "language": "python",
   "name": "python3"
  },
  "language_info": {
   "codemirror_mode": {
    "name": "ipython",
    "version": 3
   },
   "file_extension": ".py",
   "mimetype": "text/x-python",
   "name": "python",
   "nbconvert_exporter": "python",
   "pygments_lexer": "ipython3",
   "version": "3.8.5"
  }
 },
 "nbformat": 4,
 "nbformat_minor": 4
}
